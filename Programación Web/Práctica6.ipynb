{
 "cells": [
  {
   "cell_type": "markdown",
   "metadata": {},
   "source": [
    "### Práctica sobre Desarrollo de aplicaciones web con Bottle"
   ]
  },
  {
   "cell_type": "markdown",
   "metadata": {},
   "source": [
    "Se desea ampliar la práctica 3 sobre los servicios web de la EMT creando una aplicación web que actúe a modo de capa de presentación. Para ello se va a utilizar Bottle.\n",
    "\n",
    "Se pide crear una aplicación web que tenga las siguientes páginas:\n",
    "\n",
    "*  Una página principal que mostrará un conjunto de varios enlaces que representan los servicios que ofrece la aplicación[1 punto]:\n",
    "\n",
    "   * Servicio 1:Servicio de obtener la ruta optima entre dos destinos usando los servicios de la EMT\n",
    "   \n",
    "   * Servicio 2:Servicio de mostrar los lugares de interés entre dos destinos indicados.\n",
    "   \n",
    "   * Servicio 3:Servicio de mostrar las paradas de autobús más cercanas con toda la información acerca de la parada: líneas que pasan, frecuencia, ...\n",
    "   \n",
    "* Cuando el usuario pulsa sobre el servicio 1 se le mostrará un formulario en el que podrá introducir el nombre de la calle y número de un origen y un destino de la capital de Madrid, y cuando pulse sobre un botón de \"Enviar\", se le mostrará una nueva página que mostrará la descripción de la ruta. En la página del formulario como en la del resultado habrá un enlace para volver a la página inicial. [3 puntos]\n",
    "\n",
    "* Cuando el usuario pulsa sobre el servicio 2 se le mostrará un formulario en el que podrá introducir el nombre de la calle y número de un origen y un destino de la capital de Madrid, y cuando pulse sobre un botón de \"Enviar\", se le mostrará una nueva página que mostrará un listado con los lugares de interés recuperados en la ruta entre las dos calles. De cada resultado mostrará la información disponible: nombre, teléfono, calle,...En la página del formulario como en la del resultado habrá un enlace para volver a la página inicial.[3 puntos]\n",
    "\n",
    "* Este servicio es nuevo, y requiere el uso de otro servicio web de la EMT. En este caso, se va a utilizar el servicio GetStreet de GEO. Cuando el usuario pulsa sobre el servicio 3 se le mostrará un formulario en el que podrá introducir el nombre de una calle y un número de la capital de Madrid, y cuando pulse sobre un botón de \"Enviar\", se le mostrará una nueva página que mostrará la información de las paradas más cercanas a la calle con toda la información acerca de las líneas de autobuses que paran en esas paradas. En la página del formulario como en la del resultado habrá un enlace para volver a la página inicial. [3 puntos]"
   ]
  },
  {
   "cell_type": "markdown",
   "metadata": {},
   "source": [
    "## Normas de entrega\n",
    "\n",
    "* Fecha tope de entrega: 22/11/2017\n",
    "* La entrega se realizará subiendo al campus virtual un notebook de Jupyter con la solución. El archivo tendrá como nombre DesarrolloWeb_GrupoX donde X será el número de grupo correspondiente."
   ]
  },
  {
   "cell_type": "code",
   "execution_count": null,
   "metadata": {
    "collapsed": true
   },
   "outputs": [],
   "source": []
  }
 ],
 "metadata": {
  "kernelspec": {
   "display_name": "Python 3",
   "language": "python",
   "name": "python3"
  },
  "language_info": {
   "codemirror_mode": {
    "name": "ipython",
    "version": 3
   },
   "file_extension": ".py",
   "mimetype": "text/x-python",
   "name": "python",
   "nbconvert_exporter": "python",
   "pygments_lexer": "ipython3",
   "version": "3.6.0"
  }
 },
 "nbformat": 4,
 "nbformat_minor": 2
}
